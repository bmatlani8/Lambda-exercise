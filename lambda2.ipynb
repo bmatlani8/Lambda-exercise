{
 "cells": [
  {
   "cell_type": "code",
   "execution_count": 2,
   "metadata": {},
   "outputs": [
    {
     "ename": "SyntaxError",
     "evalue": "invalid syntax (<ipython-input-2-1e4aeae845c1>, line 1)",
     "output_type": "error",
     "traceback": [
      "\u001b[1;36m  File \u001b[1;32m\"<ipython-input-2-1e4aeae845c1>\"\u001b[1;36m, line \u001b[1;32m1\u001b[0m\n\u001b[1;33m    guru(funct,*args):\u001b[0m\n\u001b[1;37m                      ^\u001b[0m\n\u001b[1;31mSyntaxError\u001b[0m\u001b[1;31m:\u001b[0m invalid syntax\n"
     ]
    }
   ],
   "source": [
    "guru(funct,*args):\n",
    "    funct(*args)\n",
    "    def printer_one(arg):\n",
    "        return print(arg)\n",
    "    def printer_two(arg):\n",
    "        print(arg)\n",
    "        guru(printer_one,'printer 1 REGULAR CALL')\n",
    "        guru(printer_two,'printer 2 REGULAR CALL\\n')\n",
    "        guru(lambda:printer_one('printer 1 LAMBDA CALL'))\n",
    "        guru(lambda:printer_two('printer 2 LAMBDA CALL'))\n",
    "    "
   ]
  },
  {
   "cell_type": "code",
   "execution_count": 3,
   "metadata": {},
   "outputs": [
    {
     "name": "stdout",
     "output_type": "stream",
     "text": [
      "welcome\n",
      "nice\n",
      "hello\n"
     ]
    }
   ],
   "source": [
    "String=\"welcome\"\n",
    "String1=\"nice\"\n",
    "String2=\"hello\"\n",
    "(lambda String:print(String))(String)\n",
    "(lambda String1:print(String1))(String1)\n",
    "(lambda String2:print(String2))(String2)"
   ]
  },
  {
   "cell_type": "code",
   "execution_count": 5,
   "metadata": {},
   "outputs": [
    {
     "name": "stdout",
     "output_type": "stream",
     "text": [
      "25\n"
     ]
    }
   ],
   "source": [
    "#Write a python program to create a Lambda function that adds 15 to a given number passed in as an argument,also create a lambda  function that multiplies argument x with argument y and print the result.\n",
    "summation=lambda y:y+10\n",
    "print(summation(15))"
   ]
  },
  {
   "cell_type": "code",
   "execution_count": 6,
   "metadata": {},
   "outputs": [
    {
     "name": "stdout",
     "output_type": "stream",
     "text": [
      "48\n"
     ]
    }
   ],
   "source": [
    "multiply=lambda x:x*12\n",
    "print(multiply(4))"
   ]
  },
  {
   "cell_type": "code",
   "execution_count": 8,
   "metadata": {},
   "outputs": [
    {
     "name": "stdout",
     "output_type": "stream",
     "text": [
      "double the number of 15= 30\n",
      "triple the number of 15= 45\n",
      "Quadruple the number of 15= 60\n",
      "quintuple the number of 15= 75\n"
     ]
    }
   ],
   "source": [
    "def mul(y):\n",
    "    return lambda x:x*y\n",
    "result=mul(2)\n",
    "print(\"double the number of 15=\",result(15))\n",
    "result=mul(3)\n",
    "print(\"triple the number of 15=\",result(15))\n",
    "result=mul(4)\n",
    "print(\"Quadruple the number of 15=\",result(15))\n",
    "result=mul(5)\n",
    "print(\"quintuple the number of 15=\",result(15))\n",
    "\n"
   ]
  },
  {
   "cell_type": "code",
   "execution_count": 9,
   "metadata": {},
   "outputs": [
    {
     "name": "stdout",
     "output_type": "stream",
     "text": [
      "225\n",
      "3375\n",
      "50625\n",
      "759375\n"
     ]
    }
   ],
   "source": [
    "double=lambda x:x**2\n",
    "cube=lambda x:x**3\n",
    "fourt=lambda x:x**4\n",
    "fifth=lambda x:x**5\n",
    "\n",
    "print(double(15))\n",
    "print(cube(15))\n",
    "print(fourt(15))\n",
    "print(fifth(15))\n"
   ]
  },
  {
   "cell_type": "code",
   "execution_count": 14,
   "metadata": {},
   "outputs": [
    {
     "name": "stdout",
     "output_type": "stream",
     "text": [
      "x is greater\n",
      "y is greater\n",
      "z is greater\n"
     ]
    }
   ],
   "source": [
    "def max(x,y,z):\n",
    "    if(x>y>z):\n",
    "        print(\"x is greater\")\n",
    "    if(x>y>z):\n",
    "        print(\"y is greater\")\n",
    "    if(x>y>z):\n",
    "        print(\"z is greater\")\n",
    "        \n",
    "max(2,3,1)\n",
    "max(3,2,1)\n",
    "max(1,2,3)\n",
    "                \n",
    "\n",
    "                \n",
    "\n",
    "        "
   ]
  },
  {
   "cell_type": "code",
   "execution_count": 15,
   "metadata": {},
   "outputs": [
    {
     "name": "stdout",
     "output_type": "stream",
     "text": [
      "x is greater\n",
      "y is greater\n",
      "z is greater\n"
     ]
    }
   ],
   "source": [
    "def min(x,y,z):\n",
    "    if(x<y<z):\n",
    "        print(\"x is greater\")\n",
    "    if(x<y<z):\n",
    "        print(\"y is greater\")\n",
    "    if(x<y<z):\n",
    "        print(\"z is greater\")\n",
    "        \n",
    "max(2,3,1)\n",
    "max(3,2,1)\n",
    "max(1,2,3)\n",
    "                \n",
    "\n",
    "                \n",
    "\n",
    "        \n",
    "    "
   ]
  },
  {
   "cell_type": "code",
   "execution_count": null,
   "metadata": {},
   "outputs": [],
   "source": []
  }
 ],
 "metadata": {
  "kernelspec": {
   "display_name": "Python 3",
   "language": "python",
   "name": "python3"
  },
  "language_info": {
   "codemirror_mode": {
    "name": "ipython",
    "version": 3
   },
   "file_extension": ".py",
   "mimetype": "text/x-python",
   "name": "python",
   "nbconvert_exporter": "python",
   "pygments_lexer": "ipython3",
   "version": "3.7.4"
  }
 },
 "nbformat": 4,
 "nbformat_minor": 2
}
